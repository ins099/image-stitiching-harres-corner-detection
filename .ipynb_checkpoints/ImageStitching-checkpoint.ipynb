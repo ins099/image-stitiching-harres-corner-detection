{
 "cells": [
  {
   "cell_type": "code",
   "execution_count": 1,
   "id": "9f6c804b",
   "metadata": {},
   "outputs": [],
   "source": [
    "\n",
    "# detector = cv2.AKAZE_create()\n",
    "\n",
    "# # find the keypoints and descriptors with SIFT\n",
    "# kp1, des1 = detector.detectAndCompute(img1, None)\n",
    "# kp2, des2 = detector.detectAndCompute(img2, None)\n",
    "\n",
    "# # create BFMatcher object\n",
    "# bf = cv2.BFMatcher(cv2.NORM_HAMMING, crossCheck=True)\n",
    "\n",
    "# # Match descriptors.\n",
    "# matches = bf.match(des1,des2)\n",
    "\n",
    "# # Sort them in the order of their distance.\n",
    "# matches = sorted(matches, key = lambda x:x.distance)\n",
    "# print(matches)\n",
    "\n",
    "# src_pts = np.float32([ kp1[matches[m].queryIdx].pt for m in range(0, 20) ]).reshape(-1,1,2)\n",
    "# dst_pts = np.float32([ kp2[matches[m].trainIdx].pt for m in range(0, 20) ]).reshape(-1,1,2)\n",
    "# # print(src_pts)\n",
    "# # print(dst_pts)\n",
    "\n",
    "# cv2.imshow('half', img1)\n",
    "# cv2.imshow('long', img2)\n",
    "\n",
    "# cv2.waitKey(0)\n",
    "# cv2.destroyAllWindows()\n"
   ]
  },
  {
   "cell_type": "code",
   "execution_count": 2,
   "id": "6fd5c564",
   "metadata": {},
   "outputs": [],
   "source": [
    "import numpy as np\n",
    "import cv2\n",
    "import sys\n",
    "from matplotlib import pyplot as plt\n",
    "\n",
    "img1 = cv2.imread('large2_uttower_left.jpg',0)\n",
    "img2 = cv2.imread('uttower_right.jpg',0)"
   ]
  },
  {
   "cell_type": "code",
   "execution_count": 3,
   "id": "dc16dc33",
   "metadata": {},
   "outputs": [],
   "source": [
    "orb = cv2.ORB_create(nfeatures=2000)\n",
    "\n",
    "# Find the key points and descriptors with ORB\n",
    "keypoints1, descriptors1 = orb.detectAndCompute(img1, None)\n",
    "keypoints2, descriptors2 = orb.detectAndCompute(img2, None)"
   ]
  },
  {
   "cell_type": "code",
   "execution_count": 4,
   "id": "7081934e",
   "metadata": {},
   "outputs": [],
   "source": [
    "# cv2.imshow('long',cv2.drawKeypoints(img1, keypoints1, None, (255, 0, 255)))\n",
    "# cv2.waitKey(0)\n",
    "# cv2.destroyAllWindows()\n",
    "# cv2.imshow('half',cv2.drawKeypoints(img2, keypoints2, None, (255, 0, 255)))\n",
    "# cv2.waitKey(0)\n",
    "# cv2.destroyAllWindows()"
   ]
  },
  {
   "cell_type": "code",
   "execution_count": null,
   "id": "ec01eb0a",
   "metadata": {},
   "outputs": [],
   "source": []
  },
  {
   "cell_type": "code",
   "execution_count": 5,
   "id": "cd5809fa",
   "metadata": {},
   "outputs": [],
   "source": [
    "# Create a BFMatcher object.\n",
    "# It will find all of the matching keypoints on two images\n",
    "bf = cv2.BFMatcher_create(cv2.NORM_HAMMING)\n",
    "\n",
    "# Find matching points\n",
    "matches = bf.knnMatch(descriptors1, descriptors2,k=2)"
   ]
  },
  {
   "cell_type": "code",
   "execution_count": 6,
   "id": "b6893b37",
   "metadata": {},
   "outputs": [],
   "source": [
    "def draw_matches(img1, keypoints1, img2, keypoints2, matches):\n",
    "    r, c = img1.shape[:2]\n",
    "    r1, c1 = img2.shape[:2]\n",
    "\n",
    "    # Create a blank image with the size of the first image + second image\n",
    "    output_img = np.zeros((max([r, r1]), c+c1, 3), dtype='uint8')\n",
    "    output_img[:r, :c, :] = np.dstack([img1, img1, img1])\n",
    "    output_img[:r1, c:c+c1, :] = np.dstack([img2, img2, img2])\n",
    "\n",
    "    # Go over all of the matching points and extract them\n",
    "    for match in matches:\n",
    "        img1_idx = match.queryIdx\n",
    "        img2_idx = match.trainIdx\n",
    "        (x1, y1) = keypoints1[img1_idx].pt\n",
    "        (x2, y2) = keypoints2[img2_idx].pt\n",
    "\n",
    "        # Draw circles on the keypoints\n",
    "        cv2.circle(output_img, (int(x1),int(y1)), 4, (0, 255, 255), 1)\n",
    "        cv2.circle(output_img, (int(x2)+c,int(y2)), 4, (0, 255, 255), 1)\n",
    "\n",
    "        # Connect the same keypoints\n",
    "        cv2.line(output_img, (int(x1),int(y1)), (int(x2)+c,int(y2)), (0, 255, 255), 1)\n",
    "\n",
    "    return output_img"
   ]
  },
  {
   "cell_type": "code",
   "execution_count": 7,
   "id": "e51b3413",
   "metadata": {},
   "outputs": [],
   "source": [
    "all_matches = []\n",
    "for m, n in matches:\n",
    "    all_matches.append(m)\n",
    "\n",
    "img3 = draw_matches(img1, keypoints1, img2, keypoints2, all_matches[:30])\n",
    "# cv2.imshow(\"output 3\",img3)\n",
    "# cv2.waitKey(0)"
   ]
  },
  {
   "cell_type": "code",
   "execution_count": 8,
   "id": "a4e8a472",
   "metadata": {},
   "outputs": [],
   "source": [
    "# Finding the best matches\n",
    "good = []\n",
    "for m, n in matches:\n",
    "    if m.distance < 0.6 * n.distance:\n",
    "        good.append(m)"
   ]
  },
  {
   "cell_type": "code",
   "execution_count": 9,
   "id": "251c3737",
   "metadata": {},
   "outputs": [],
   "source": [
    "# cv2.imshow('good',cv2.drawKeypoints(img1, [keypoints1[m.queryIdx] for m in good], None, (255, 0, 255)))\n",
    "# cv2.waitKey(0)"
   ]
  },
  {
   "cell_type": "code",
   "execution_count": 10,
   "id": "56ccc2ce",
   "metadata": {},
   "outputs": [],
   "source": [
    "# cv2.imshow('goodlong',cv2.drawKeypoints(img2, [keypoints1[m.queryIdx] for m in good], None, (255, 0, 255)))\n",
    "# cv2.waitKey(0)\n",
    "# # cv2.destroyAllWindows()"
   ]
  },
  {
   "cell_type": "code",
   "execution_count": 11,
   "id": "7d670b6f",
   "metadata": {},
   "outputs": [],
   "source": [
    "def warpImages(img1, img2, H):\n",
    "\n",
    "    rows1, cols1 = img1.shape[:2]\n",
    "    rows2, cols2 = img2.shape[:2]\n",
    "\n",
    "    list_of_points_1 = np.float32([[0,0], [0, rows1],[cols1, rows1], [cols1, 0]]).reshape(-1, 1, 2)\n",
    "    temp_points = np.float32([[0,0], [0,rows2], [cols2,rows2], [cols2,0]]).reshape(-1,1,2)\n",
    "\n",
    "    # When we have established a homography we need to warp perspective\n",
    "    # Change field of view\n",
    "    list_of_points_2 = cv2.perspectiveTransform(temp_points, H)\n",
    "\n",
    "    list_of_points = np.concatenate((list_of_points_1,list_of_points_2), axis=0)\n",
    "\n",
    "    [x_min, y_min] = np.int32(list_of_points.min(axis=0).ravel() - 0.5)\n",
    "    [x_max, y_max] = np.int32(list_of_points.max(axis=0).ravel() + 0.5)\n",
    "\n",
    "    translation_dist = [-x_min,-y_min]\n",
    "\n",
    "    H_translation = np.array([[1, 0, translation_dist[0]], [0, 1, translation_dist[1]], [0, 0, 1]])\n",
    "\n",
    "    output_img = cv2.warpPerspective(img2, H_translation.dot(H), (x_max-x_min, y_max-y_min))\n",
    "    output_img[translation_dist[1]:rows1+translation_dist[1], translation_dist[0]:cols1+translation_dist[0]] = img1\n",
    "\n",
    "    return output_img"
   ]
  },
  {
   "cell_type": "code",
   "execution_count": 12,
   "id": "3008274c",
   "metadata": {},
   "outputs": [],
   "source": [
    "# Set minimum match condition\n",
    "MIN_MATCH_COUNT = 10\n",
    "\n",
    "if len(good) > MIN_MATCH_COUNT:\n",
    "    # Convert keypoints to an argument for findHomography\n",
    "    src_pts = np.float32([ keypoints1[m.queryIdx].pt for m in good]).reshape(-1,1,2)\n",
    "    dst_pts = np.float32([ keypoints2[m.trainIdx].pt for m in good]).reshape(-1,1,2)\n",
    "\n",
    "    # Establish a homography\n",
    "    M, _ = cv2.findHomography(src_pts, dst_pts, cv2.RANSAC,5.0)\n",
    "    \n",
    "    result = warpImages(img2, img1, M)\n",
    "\n",
    "    cv2.namedWindow(\"output\", cv2.WINDOW_NORMAL)\n",
    "                       # Resize image\n",
    "    cv2.imshow(\"output\", cv2.resize(result, (960, 540)) )                            # Show image\n",
    "    cv2.waitKey(0)  \n",
    "    cv2.destroyAllWindows()"
   ]
  },
  {
   "cell_type": "code",
   "execution_count": null,
   "id": "96bc02a9",
   "metadata": {},
   "outputs": [],
   "source": []
  }
 ],
 "metadata": {
  "kernelspec": {
   "display_name": "Python 3 (ipykernel)",
   "language": "python",
   "name": "python3"
  },
  "language_info": {
   "codemirror_mode": {
    "name": "ipython",
    "version": 3
   },
   "file_extension": ".py",
   "mimetype": "text/x-python",
   "name": "python",
   "nbconvert_exporter": "python",
   "pygments_lexer": "ipython3",
   "version": "3.9.7"
  }
 },
 "nbformat": 4,
 "nbformat_minor": 5
}

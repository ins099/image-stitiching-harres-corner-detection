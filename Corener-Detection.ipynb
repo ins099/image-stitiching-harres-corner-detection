{
 "cells": [
  {
   "cell_type": "code",
   "execution_count": 1,
   "id": "a14f2f97",
   "metadata": {},
   "outputs": [],
   "source": [
    "from __future__ import print_function\n",
    "import cv2 as cv\n",
    "import numpy as np\n",
    "import argparse\n",
    "import random as rng\n",
    "\n",
    "Harris_window = 'Harris corner detector'\n",
    "Harris_qualityLevel = 50\n",
    "max_qualityLevel = 100"
   ]
  },
  {
   "cell_type": "code",
   "execution_count": 2,
   "id": "2c9adf61",
   "metadata": {},
   "outputs": [],
   "source": [
    "def Harris_function(val):\n",
    "    myHarris_copy = np.copy(src)\n",
    "    myHarris_qualityLevel = max(val, 1)\n",
    "    for i in range(src_gray.shape[0]):\n",
    "        for j in range(src_gray.shape[1]):\n",
    "            if Mc[i,j] > myHarris_minVal + ( myHarris_maxVal - myHarris_minVal )*myHarris_qualityLevel/max_qualityLevel:\n",
    "                cv.circle(myHarris_copy, (j,i), 4, (rng.randint(0,256), rng.randint(0,256), rng.randint(0,256)), cv.FILLED)\n",
    "    cv.imshow(Harris_window, myHarris_copy)"
   ]
  },
  {
   "cell_type": "code",
   "execution_count": 3,
   "id": "9778a5a2",
   "metadata": {},
   "outputs": [],
   "source": [
    "src = cv.imread('box_in_scene.png')"
   ]
  },
  {
   "cell_type": "code",
   "execution_count": 4,
   "id": "127abbd1",
   "metadata": {},
   "outputs": [],
   "source": [
    "src_gray = cv.cvtColor(src, cv.COLOR_BGR2GRAY)"
   ]
  },
  {
   "cell_type": "code",
   "execution_count": 5,
   "id": "21fd0c27",
   "metadata": {},
   "outputs": [],
   "source": [
    "# Set some parameters\n",
    "blockSize = 3\n",
    "apertureSize = 3\n",
    "# My Harris matrix -- Using cornerEigenValsAndVecs\n",
    "myHarris_dst = cv.cornerEigenValsAndVecs(src_gray, blockSize, apertureSize)"
   ]
  },
  {
   "cell_type": "code",
   "execution_count": 6,
   "id": "ddfeb528",
   "metadata": {},
   "outputs": [],
   "source": [
    "# calculate Mc\n",
    "Mc = np.empty(src_gray.shape, dtype=np.float32)\n",
    "for i in range(src_gray.shape[0]):\n",
    "    for j in range(src_gray.shape[1]):\n",
    "        lambda_1 = myHarris_dst[i,j,0]\n",
    "        lambda_2 = myHarris_dst[i,j,1]\n",
    "        Mc[i,j] = lambda_1*lambda_2 - 0.04*pow( ( lambda_1 + lambda_2 ), 2 )\n",
    "        \n",
    "myHarris_minVal, myHarris_maxVal, _, _ = cv.minMaxLoc(Mc)"
   ]
  },
  {
   "cell_type": "code",
   "execution_count": 7,
   "id": "ea4a93ce",
   "metadata": {},
   "outputs": [],
   "source": [
    "# Create Window and Trackbar\n",
    "cv.namedWindow(Harris_window)\n",
    "cv.createTrackbar('Quality Level:', Harris_window, Harris_qualityLevel, max_qualityLevel, Harris_function)\n",
    "Harris_function(Harris_qualityLevel)"
   ]
  },
  {
   "cell_type": "code",
   "execution_count": null,
   "id": "f2c12389",
   "metadata": {},
   "outputs": [],
   "source": []
  },
  {
   "cell_type": "code",
   "execution_count": null,
   "id": "32a6cbca",
   "metadata": {},
   "outputs": [],
   "source": []
  }
 ],
 "metadata": {
  "kernelspec": {
   "display_name": "Python 3 (ipykernel)",
   "language": "python",
   "name": "python3"
  },
  "language_info": {
   "codemirror_mode": {
    "name": "ipython",
    "version": 3
   },
   "file_extension": ".py",
   "mimetype": "text/x-python",
   "name": "python",
   "nbconvert_exporter": "python",
   "pygments_lexer": "ipython3",
   "version": "3.9.7"
  }
 },
 "nbformat": 4,
 "nbformat_minor": 5
}

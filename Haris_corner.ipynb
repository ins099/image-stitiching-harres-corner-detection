{
 "cells": [
  {
   "cell_type": "code",
   "execution_count": null,
   "id": "32a6cbca",
   "metadata": {},
   "outputs": [],
   "source": [
    "from __future__ import print_function\n",
    "import cv2 as cv\n",
    "import numpy as np\n",
    "import argparse\n",
    "source_window = 'Source image'\n",
    "corners_window = 'Corners detected'\n",
    "max_thresh = 255\n",
    "def cornerHarris_demo(val):\n",
    "    thresh = val\n",
    "    # Detector parameters\n",
    "    blockSize = 2\n",
    "    apertureSize = 3\n",
    "    k = 0.04\n",
    "    # Detecting corners\n",
    "    dst = cv.cornerHarris(src_gray, blockSize, apertureSize, k)\n",
    "    # Normalizing\n",
    "    dst_norm = np.empty(dst.shape, dtype=np.float32)\n",
    "    cv.normalize(dst, dst_norm, alpha=0, beta=255, norm_type=cv.NORM_MINMAX)\n",
    "    dst_norm_scaled = cv.convertScaleAbs(dst_norm)\n",
    "    # Drawing a circle around corners\n",
    "    for i in range(dst_norm.shape[0]):\n",
    "        for j in range(dst_norm.shape[1]):\n",
    "            if int(dst_norm[i,j]) > thresh:\n",
    "                cv.circle(dst_norm_scaled, (j,i), 5, (0), 2)\n",
    "    # Showing the result\n",
    "    cv.namedWindow(corners_window)\n",
    "    cv.imshow(corners_window, dst_norm_scaled)\n",
    "\n",
    "src = cv.imread('box_in_scene.png')\n",
    "\n",
    "src_gray = cv.cvtColor(src, cv.COLOR_BGR2GRAY)\n",
    "# Create a window and a trackbar\n",
    "cv.namedWindow(source_window)\n",
    "thresh = 200 # initial threshold\n",
    "cv.createTrackbar('Threshold: ', source_window, thresh, max_thresh, cornerHarris_demo)\n",
    "cv.imshow(source_window, src)\n",
    "cornerHarris_demo(thresh)\n",
    "cv.waitKey()"
   ]
  },
  {
   "cell_type": "code",
   "execution_count": null,
   "id": "aef2b623",
   "metadata": {},
   "outputs": [],
   "source": []
  }
 ],
 "metadata": {
  "kernelspec": {
   "display_name": "Python 3 (ipykernel)",
   "language": "python",
   "name": "python3"
  },
  "language_info": {
   "codemirror_mode": {
    "name": "ipython",
    "version": 3
   },
   "file_extension": ".py",
   "mimetype": "text/x-python",
   "name": "python",
   "nbconvert_exporter": "python",
   "pygments_lexer": "ipython3",
   "version": "3.9.7"
  }
 },
 "nbformat": 4,
 "nbformat_minor": 5
}
